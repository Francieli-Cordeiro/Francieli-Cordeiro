{
  "nbformat": 4,
  "nbformat_minor": 0,
  "metadata": {
    "colab": {
      "provenance": [],
      "include_colab_link": true
    },
    "kernelspec": {
      "name": "python3",
      "display_name": "Python 3"
    },
    "language_info": {
      "name": "python"
    }
  },
  "cells": [
    {
      "cell_type": "markdown",
      "metadata": {
        "id": "view-in-github",
        "colab_type": "text"
      },
      "source": [
        "<a href=\"https://colab.research.google.com/github/Francieli-Cordeiro/Francieli-Cordeiro/blob/main/Exercicio.ipynb\" target=\"_parent\"><img src=\"https://colab.research.google.com/assets/colab-badge.svg\" alt=\"Open In Colab\"/></a>"
      ]
    },
    {
      "cell_type": "markdown",
      "metadata": {
        "id": "T5uNOG6pi0y_"
      },
      "source": [
        "## Gabarito EX 1"
      ]
    },
    {
      "cell_type": "code",
      "metadata": {
        "colab": {
          "base_uri": "https://localhost:8080/"
        },
        "id": "J4O6Hg6qi0zI",
        "outputId": "c12fdbe6-9897-44a7-f011-4a946fab8e7e"
      },
      "source": [
        "cliente_nome = str(input('Insira o seu nome: '))\n",
        "cliente_nascimento_ano = int(input('Insira seu ano de nascimento: '))\n",
        "ano_atual = 2021\n",
        "if( ( ano_atual - cliente_nascimento_ano ) >= 18 ):\n",
        "  print(f\">> {cliente_nome} você pode comprar bebidas \");\n",
        "else:\n",
        "  print(f\">> {cliente_nome}, infelizmente você não pode comprar bebidas \");\n",
        "\n"
      ],
      "execution_count": null,
      "outputs": [
        {
          "output_type": "stream",
          "name": "stdout",
          "text": [
            "Insira o seu nome: André\n",
            "Insira seu ano de nascimento: 2012\n",
            ">> André, infelizmente você não pode comprar bebidas \n"
          ]
        }
      ]
    },
    {
      "cell_type": "markdown",
      "metadata": {
        "id": "LGzBB_K0igTQ"
      },
      "source": [
        "## Gabarito EX 2"
      ]
    },
    {
      "cell_type": "code",
      "metadata": {
        "colab": {
          "base_uri": "https://localhost:8080/"
        },
        "id": "Rlg3_U777hYr",
        "outputId": "7035e3d4-8b59-4095-c696-54813eaf45d0"
      },
      "source": [
        "nota_1 = float(input('Insira a Nota 1: '))\n",
        "nota_2 = float(input('Insira a Nota 2: '))\n",
        "nota_3 = float(input('Insira a Nota 3: '))\n",
        "media = ( nota_1 + nota_2 + nota_3 ) / 3\n",
        "if(  media >= 8 ):\n",
        "  print(f\">> Parabéns, você conseguiu passar! :){media:.2f} \");\n",
        "else:\n",
        "  print(f\">> Infelizmente você não conseguiu passar :(  {media:.2f}\");\n",
        "\n"
      ],
      "execution_count": null,
      "outputs": [
        {
          "output_type": "stream",
          "name": "stdout",
          "text": [
            "Insira a Nota 1: 3.1\n",
            "Insira a Nota 2: 9.7\n",
            "Insira a Nota 3: 5\n",
            ">> Infelizmente você não conseguiu passar :(  5.93\n"
          ]
        }
      ]
    },
    {
      "cell_type": "markdown",
      "metadata": {
        "id": "4BVZASDTkGf3"
      },
      "source": [
        "## Gabarito EX 3"
      ]
    },
    {
      "cell_type": "code",
      "metadata": {
        "colab": {
          "base_uri": "https://localhost:8080/"
        },
        "id": "rGugtXaAkGf_",
        "outputId": "f770bf00-a0a3-4df0-bc3b-fa8e56aa9483"
      },
      "source": [
        "altura = float(input('Qual a sua altura em centimetros? '))\n",
        "if( altura % 2 == 0 ):\n",
        "  print(\"A altura inserida é par\")\n",
        "else:\n",
        "  print(\"A altura inserida é impar\")\n",
        "\n"
      ],
      "execution_count": null,
      "outputs": [
        {
          "output_type": "stream",
          "name": "stdout",
          "text": [
            "Qual a sua altura em centimetros? 15\n",
            "A altura inserida é impar\n"
          ]
        }
      ]
    },
    {
      "cell_type": "markdown",
      "metadata": {
        "id": "ewyY0LGYlDBO"
      },
      "source": [
        "## Gabarito EX 4"
      ]
    },
    {
      "cell_type": "code",
      "metadata": {
        "colab": {
          "base_uri": "https://localhost:8080/"
        },
        "id": "j0tC6lErlDBP",
        "outputId": "20527b84-6673-4793-a7ba-feefaf9884ca"
      },
      "source": [
        "dias_quantidade = int(input('Qual o numero do dia? '))\n",
        "dias_por_trimestre = 365 / 4\n",
        "if( dias_quantidade >  dias_por_trimestre * 3 ):\n",
        "  print(\"Esta data está no 4 trimeste\")\n",
        "elif( dias_quantidade >  dias_por_trimestre * 2 ):\n",
        "  print(\"Esta data está no 3 trimeste\")\n",
        "elif( dias_quantidade >  dias_por_trimestre * 1 ):\n",
        "  print(\"Esta data está no 2 trimeste\")\n",
        "else:\n",
        "  print(\"Esta data está no 1 trimeste\")"
      ],
      "execution_count": null,
      "outputs": [
        {
          "output_type": "stream",
          "name": "stdout",
          "text": [
            "Qual o numero do dia? 320\n",
            "Esta data está no 4 trimeste\n"
          ]
        }
      ]
    },
    {
      "cell_type": "markdown",
      "metadata": {
        "id": "yX1drGG0nYat"
      },
      "source": [
        "## Gabarito EX 5"
      ]
    },
    {
      "cell_type": "code",
      "metadata": {
        "colab": {
          "base_uri": "https://localhost:8080/"
        },
        "id": "6mC4ZOkPnYa1",
        "outputId": "2d5b3f20-a692-4b11-df57-056f7a0eb7d3"
      },
      "source": [
        "# esse é pros monstros em ;)\n",
        "numero_A = int(input('Qual o numero A: '))\n",
        "numero_B = int(input('Qual o numero B: '))\n",
        "numero_C = int(input('Qual o numero C: '))\n",
        "\n",
        "if (numero_A == numero_B):\n",
        "  print(f\"EMPATE!! A({numero_A}) e B({numero_B})\")\n",
        "if (numero_B == numero_C):\n",
        "  print(f\"EMPATE!! B({numero_B}) e C({numero_C})\")\n",
        "if (numero_A == numero_C):\n",
        "  print(f\"EMPATE!! A({numero_A}) e C({numero_C})\")\n",
        "\n",
        "if( numero_A >= numero_B ):\n",
        "  if( numero_B >= numero_C ):\n",
        "    print(f\"ORDEM: A({numero_A}) | B({numero_B}) | C({numero_C}) \")\n",
        "  else:\n",
        "    if( numero_A >= numero_C ):\n",
        "      print(f\"ORDEM: A({numero_A}) | C({numero_C}) | B({numero_B})   \")\n",
        "    else:\n",
        "      print(f\"ORDEM: C({numero_C}) | A({numero_A}) | B({numero_B}) \")\n",
        "else:\n",
        "  if( numero_A >= numero_C ):\n",
        "    print(f\"ORDEM: B({numero_B}) | A({numero_A}) | C({numero_C}) \")\n",
        "  else:\n",
        "    if( numero_B >= numero_C ):\n",
        "      print(f\"ORDEM: B({numero_B}) | C({numero_C}) | A({numero_A})  \")\n",
        "    else:\n",
        "      print(f\"ORDEM: C({numero_C}) | B({numero_B}) | A({numero_A})  \")\n",
        "\n"
      ],
      "execution_count": null,
      "outputs": [
        {
          "output_type": "stream",
          "name": "stdout",
          "text": [
            "Qual o numero A: 7\n",
            "Qual o numero B: 10\n",
            "Qual o numero C: 7\n",
            "EMPATE!! A(7) e C(7)\n",
            "ORDEM: B(10) | A(7) | C(7) \n"
          ]
        }
      ]
    }
  ]
}