{
  "nbformat": 4,
  "nbformat_minor": 0,
  "metadata": {
    "colab": {
      "private_outputs": true,
      "provenance": [],
      "authorship_tag": "ABX9TyMwxiRRo2RpFiUimLz7xMyh",
      "include_colab_link": true
    },
    "kernelspec": {
      "name": "python3",
      "display_name": "Python 3"
    },
    "language_info": {
      "name": "python"
    }
  },
  "cells": [
    {
      "cell_type": "markdown",
      "metadata": {
        "id": "view-in-github",
        "colab_type": "text"
      },
      "source": [
        "<a href=\"https://colab.research.google.com/github/Francieli-Cordeiro/Francieli-Cordeiro/blob/main/exercicio%20em%20payton.ipynb\" target=\"_parent\"><img src=\"https://colab.research.google.com/assets/colab-badge.svg\" alt=\"Open In Colab\"/></a>"
      ]
    },
    {
      "cell_type": "code",
      "source": [
        "cliente_nome = str(input('Insira o seu nome: '))\n",
        "cliente_nascimento_ano = int(input('Insira seu ano de nascimento: '))\n",
        "ano_atual = 2021\n",
        "if( ( ano_atual - cliente_nascimento_ano ) >= 18 ):\n",
        "  print(f\">> {cliente_nome} você pode comprar bebidas \");\n",
        "else:\n",
        "  print(f\">> {cliente_nome}, infelizmente você não pode comprar bebidas \");"
      ],
      "metadata": {
        "id": "hF7bK2PhZoaY"
      },
      "execution_count": null,
      "outputs": []
    },
    {
      "cell_type": "code",
      "source": [
        "nota_1 = float(input('Insira a Nota 1: '))\n",
        "nota_2 = float(input('Insira a Nota 2: '))\n",
        "nota_3 = float(input('Insira a Nota 3: '))\n",
        "media = ( nota_1 + nota_2 + nota_3 ) / 3\n",
        "if(  media >= 8 ):\n",
        "  print(f\">> Parabéns, você conseguiu passar! :){media:.2f} \");\n",
        "else:\n",
        "  print(f\">> Infelizmente você não conseguiu passar :(  {media:.2f}\");\n"
      ],
      "metadata": {
        "id": "gXz_o7sScg_c"
      },
      "execution_count": null,
      "outputs": []
    },
    {
      "cell_type": "code",
      "source": [
        "altura = float(input('Qual a sua altura em centimetros? '))\n",
        "if( altura % 2 == 0 ):\n",
        "  print(\"A altura inserida é par\")\n",
        "else:\n",
        "  print(\"A altura inserida é impar\")"
      ],
      "metadata": {
        "id": "vaIRACi3OCZo"
      },
      "execution_count": null,
      "outputs": []
    },
    {
      "cell_type": "code",
      "source": [
        "dias_quantidade = int(input('Qual o numero do dia? '))\n",
        "dias_por_trimestre = 365 / 4\n",
        "if( dias_quantidade >  dias_por_trimestre * 3 ):\n",
        "  print(\"Esta data está no 4 trimeste\")\n",
        "elif( dias_quantidade >  dias_por_trimestre * 2 ):\n",
        "  print(\"Esta data está no 3 trimeste\")\n",
        "elif( dias_quantidade >  dias_por_trimestre * 1 ):\n",
        "  print(\"Esta data está no 2 trimeste\")\n",
        "else:\n",
        "  print(\"Esta data está no 1 trimeste\")\n"
      ],
      "metadata": {
        "id": "G3dmtAONOQDX"
      },
      "execution_count": null,
      "outputs": []
    },
    {
      "cell_type": "code",
      "source": [
        "# esse é pros monstros em ;)\n",
        "numero_A = int(input('Qual o numero A: '))\n",
        "numero_B = int(input('Qual o numero B: '))\n",
        "numero_C = int(input('Qual o numero C: '))\n",
        "\n",
        "if (numero_A == numero_B):\n",
        "  print(f\"EMPATE!! A({numero_A}) e B({numero_B})\")\n",
        "if (numero_B == numero_C):\n",
        "  print(f\"EMPATE!! B({numero_B}) e C({numero_C})\")\n",
        "if (numero_A == numero_C):\n",
        "  print(f\"EMPATE!! A({numero_A}) e C({numero_C})\")\n",
        "\n",
        "if( numero_A >= numero_B ):\n",
        "  if( numero_B >= numero_C ):\n",
        "    print(f\"ORDEM: A({numero_A}) | B({numero_B}) | C({numero_C}) \")\n",
        "  else:\n",
        "    if( numero_A >= numero_C ):\n",
        "      print(f\"ORDEM: A({numero_A}) | C({numero_C}) | B({numero_B})   \")\n",
        "    else:\n",
        "      print(f\"ORDEM: C({numero_C}) | A({numero_A}) | B({numero_B}) \")\n",
        "else:\n",
        "  if( numero_A >= numero_C ):\n",
        "    print(f\"ORDEM: B({numero_B}) | A({numero_A}) | C({numero_C}) \")\n",
        "  else:\n",
        "    if( numero_B >= numero_C ):\n",
        "      print(f\"ORDEM: B({numero_B}) | C({numero_C}) | A({numero_A})  \")\n",
        "    else:\n",
        "      print(f\"ORDEM: C({numero_C}) | B({numero_B}) | A({numero_A})  \")"
      ],
      "metadata": {
        "id": "3CM2oQ0HObWO"
      },
      "execution_count": null,
      "outputs": []
    }
  ]
}