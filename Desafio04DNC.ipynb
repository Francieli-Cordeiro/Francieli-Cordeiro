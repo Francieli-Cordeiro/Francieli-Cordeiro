{
  "nbformat": 4,
  "nbformat_minor": 0,
  "metadata": {
    "colab": {
      "private_outputs": true,
      "provenance": [],
      "authorship_tag": "ABX9TyNiNZq0pSGyamdRUxWhkXaJ",
      "include_colab_link": true
    },
    "kernelspec": {
      "name": "python3",
      "display_name": "Python 3"
    },
    "language_info": {
      "name": "python"
    }
  },
  "cells": [
    {
      "cell_type": "markdown",
      "metadata": {
        "id": "view-in-github",
        "colab_type": "text"
      },
      "source": [
        "<a href=\"https://colab.research.google.com/github/Francieli-Cordeiro/Francieli-Cordeiro/blob/main/Desafio04DNC.ipynb\" target=\"_parent\"><img src=\"https://colab.research.google.com/assets/colab-badge.svg\" alt=\"Open In Colab\"/></a>"
      ]
    },
    {
      "cell_type": "code",
      "execution_count": null,
      "metadata": {
        "id": "Dpls_RpyZTkV"
      },
      "outputs": [],
      "source": [
        "import pandas as pd\n",
        "\n",
        "\n",
        "investimentoPlataformaWeb = pd.read_csv (\"/content/MKT.csv\", sep = \",\")\n",
        "investimentoPlataformaWeb.head()"
      ]
    },
    {
      "cell_type": "code",
      "source": [
        "investimentoPlataformaWeb.info()"
      ],
      "metadata": {
        "id": "Q4bisjxCbSeP"
      },
      "execution_count": null,
      "outputs": []
    },
    {
      "cell_type": "code",
      "source": [
        "investimentoPlataformaWeb.describe()"
      ],
      "metadata": {
        "id": "60u2s5UUbp2n"
      },
      "execution_count": null,
      "outputs": []
    },
    {
      "source": [
        "from matplotlib import pyplot as plt\n",
        "_df_0['youtube'].plot(kind='hist', bins=20, title='youtube')\n",
        "plt.gca().spines[['top', 'right',]].set_visible(False)"
      ],
      "cell_type": "code",
      "metadata": {
        "id": "t09UxQdrf70c"
      },
      "execution_count": null,
      "outputs": []
    },
    {
      "cell_type": "code",
      "source": [
        "%pip install plotly\n",
        "%pip install cufflinks\n",
        "%pip install chart-studio"
      ],
      "metadata": {
        "id": "d0ZgppDXb1_n"
      },
      "execution_count": null,
      "outputs": []
    },
    {
      "cell_type": "code",
      "source": [
        "import seaborn as sns\n",
        "import numpy as np\n",
        "import chart_studio.plotly as py\n",
        "import cufflinks as cf\n",
        "import plotly.graph_objects as go\n",
        "import plotly.express as px"
      ],
      "metadata": {
        "id": "LRohkgd9dAun"
      },
      "execution_count": null,
      "outputs": []
    },
    {
      "cell_type": "code",
      "source": [
        "fig = px.box (investimentoPlataformaWeb, x= )"
      ],
      "metadata": {
        "id": "bNU7CMkUe0Yk"
      },
      "execution_count": null,
      "outputs": []
    }
  ]
}